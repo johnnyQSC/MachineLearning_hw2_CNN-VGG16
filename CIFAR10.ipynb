{
  "nbformat": 4,
  "nbformat_minor": 0,
  "metadata": {
    "colab": {
      "name": "CIFAR10_CNN.ipynb",
      "provenance": [],
      "collapsed_sections": []
    },
    "kernelspec": {
      "name": "python3",
      "display_name": "Python 3"
    },
    "language_info": {
      "name": "python"
    },
    "accelerator": "GPU"
  },
  "cells": [
    {
      "cell_type": "code",
      "execution_count": 1,
      "metadata": {
        "id": "DyFPdUMy5tPB"
      },
      "outputs": [],
      "source": [
        "#載入套件\n",
        "from keras.datasets import cifar10\n",
        "from keras.models import Sequential\n",
        "from keras.layers import Dense,Flatten,Conv2D,MaxPooling2D\n",
        "from tensorflow.keras.utils import to_categorical\n",
        "import matplotlib.pyplot as plt\n",
        "import pandas as pd\n",
        "import numpy as np"
      ]
    },
    {
      "cell_type": "code",
      "source": [
        "#載入CIFAR10資料集(x:特徵,y:標籤)\n",
        "(x_train,y_train),(x_test,y_test)=cifar10.load_data()"
      ],
      "metadata": {
        "id": "58Q_oZqH-hyL",
        "colab": {
          "base_uri": "https://localhost:8080/"
        },
        "outputId": "e1729909-5803-4445-9874-af2cf1f6988a"
      },
      "execution_count": 2,
      "outputs": [
        {
          "output_type": "stream",
          "name": "stdout",
          "text": [
            "Downloading data from https://www.cs.toronto.edu/~kriz/cifar-10-python.tar.gz\n",
            "170500096/170498071 [==============================] - 4s 0us/step\n",
            "170508288/170498071 [==============================] - 4s 0us/step\n"
          ]
        }
      ]
    },
    {
      "cell_type": "code",
      "source": [
        "#訓練集:50000筆32*32的rgb圖片，測試集:10000筆32*32的rgb圖片\n",
        "print(x_train.shape)\n",
        "print(y_train.shape)\n",
        "print(x_test.shape)\n",
        "print(y_test.shape)"
      ],
      "metadata": {
        "colab": {
          "base_uri": "https://localhost:8080/"
        },
        "id": "BKSytzcU59Y_",
        "outputId": "3136741d-b4e7-4e81-99db-c0a56d3a028f"
      },
      "execution_count": 3,
      "outputs": [
        {
          "output_type": "stream",
          "name": "stdout",
          "text": [
            "(50000, 32, 32, 3)\n",
            "(50000, 1)\n",
            "(10000, 32, 32, 3)\n",
            "(10000, 1)\n"
          ]
        }
      ]
    },
    {
      "cell_type": "code",
      "source": [
        "#訓練集第一張圖片的資料\n",
        "print(x_train[0])"
      ],
      "metadata": {
        "colab": {
          "base_uri": "https://localhost:8080/"
        },
        "id": "3NoNm7KJ6lw-",
        "outputId": "e18ffa84-d932-474f-db28-a30e55dde609"
      },
      "execution_count": 4,
      "outputs": [
        {
          "output_type": "stream",
          "name": "stdout",
          "text": [
            "[[[ 59  62  63]\n",
            "  [ 43  46  45]\n",
            "  [ 50  48  43]\n",
            "  ...\n",
            "  [158 132 108]\n",
            "  [152 125 102]\n",
            "  [148 124 103]]\n",
            "\n",
            " [[ 16  20  20]\n",
            "  [  0   0   0]\n",
            "  [ 18   8   0]\n",
            "  ...\n",
            "  [123  88  55]\n",
            "  [119  83  50]\n",
            "  [122  87  57]]\n",
            "\n",
            " [[ 25  24  21]\n",
            "  [ 16   7   0]\n",
            "  [ 49  27   8]\n",
            "  ...\n",
            "  [118  84  50]\n",
            "  [120  84  50]\n",
            "  [109  73  42]]\n",
            "\n",
            " ...\n",
            "\n",
            " [[208 170  96]\n",
            "  [201 153  34]\n",
            "  [198 161  26]\n",
            "  ...\n",
            "  [160 133  70]\n",
            "  [ 56  31   7]\n",
            "  [ 53  34  20]]\n",
            "\n",
            " [[180 139  96]\n",
            "  [173 123  42]\n",
            "  [186 144  30]\n",
            "  ...\n",
            "  [184 148  94]\n",
            "  [ 97  62  34]\n",
            "  [ 83  53  34]]\n",
            "\n",
            " [[177 144 116]\n",
            "  [168 129  94]\n",
            "  [179 142  87]\n",
            "  ...\n",
            "  [216 184 140]\n",
            "  [151 118  84]\n",
            "  [123  92  72]]]\n"
          ]
        }
      ]
    },
    {
      "cell_type": "code",
      "source": [
        "#各圖片類別\n",
        "classes=[\"airplane\",\"automobile\",\"bird\",\"cat\",\"deer\",\"dog\",\"frog\",\"horse\",\"ship\",\"truck\"]"
      ],
      "metadata": {
        "id": "1ru-QlA28zCd"
      },
      "execution_count": 5,
      "outputs": []
    },
    {
      "cell_type": "code",
      "source": [
        "#第一張圖片是青蛙\n",
        "print(y_train[0])"
      ],
      "metadata": {
        "colab": {
          "base_uri": "https://localhost:8080/"
        },
        "id": "YW6ogqcf9sgT",
        "outputId": "6b9aa9a1-5728-4692-ebd1-6a52f63ec616"
      },
      "execution_count": 6,
      "outputs": [
        {
          "output_type": "stream",
          "name": "stdout",
          "text": [
            "[6]\n"
          ]
        }
      ]
    },
    {
      "cell_type": "code",
      "source": [
        "#顯示第一張圖片\n",
        "plt.imshow(x_train[0],cmap='binary')\n",
        "plt.axis(\"off\")\n",
        "plt.show()"
      ],
      "metadata": {
        "colab": {
          "base_uri": "https://localhost:8080/",
          "height": 248
        },
        "id": "3FlXT1pF-ZwL",
        "outputId": "5906f72d-0a83-44e9-ce7d-6793e58fc85e"
      },
      "execution_count": 7,
      "outputs": [
        {
          "output_type": "display_data",
          "data": {
            "text/plain": [
              "<Figure size 432x288 with 1 Axes>"
            ],
            "image/png": "[encoded data removed]"
          },
          "metadata": {
            "needs_background": "light"
          }
        }
      ]
    },
    {
      "cell_type": "code",
      "source": [
        "#訓練資料正規化\n",
        "x_train_normalize=x_train.astype(\"float64\")/255\n",
        "x_test_normalize=x_test.astype(\"float64\")/255"
      ],
      "metadata": {
        "id": "xmReu1H6_Dnq"
      },
      "execution_count": 8,
      "outputs": []
    },
    {
      "cell_type": "code",
      "source": [
        "#測試資料轉換為One-Hot-Encoding\n",
        "y_train_onehot=to_categorical(y_train)\n",
        "y_test_onehot=to_categorical(y_test)"
      ],
      "metadata": {
        "id": "wM0gAdn6BdqJ"
      },
      "execution_count": 9,
      "outputs": []
    },
    {
      "cell_type": "code",
      "source": [
        "#建立CNN模型\n",
        "model=Sequential()\n",
        "model.add(Conv2D(filters=32,kernel_size=(3,3),strides=(1,1),padding=\"same\",activation='relu',input_shape=(32,32,3)))\n",
        "model.add(MaxPooling2D(pool_size=(2,2))) \n",
        "model.add(Conv2D(filters=64,kernel_size=(3,3),strides=(1,1),padding=\"same\",activation='relu')) \n",
        "model.add(MaxPooling2D(pool_size=(2,2)))\n",
        "model.add(Conv2D(filters=128,kernel_size=(3,3),strides=(1,1),padding=\"same\",activation='relu'))\n",
        "model.add(MaxPooling2D(pool_size=(2,2)))  \n",
        "model.add(Flatten()) \n",
        "model.add(Dense(512,activation=\"relu\")) \n",
        "model.add(Dense(10,activation=\"softmax\"))"
      ],
      "metadata": {
        "id": "4IG2Wm8JDsKI"
      },
      "execution_count": 10,
      "outputs": []
    },
    {
      "cell_type": "code",
      "source": [
        "#模型簡介\n",
        "model.summary()"
      ],
      "metadata": {
        "colab": {
          "base_uri": "https://localhost:8080/"
        },
        "id": "dWW-Jmm6HTWU",
        "outputId": "123394ef-0aca-4ea2-d5fd-2c0660abd9cd"
      },
      "execution_count": 11,
      "outputs": [
        {
          "output_type": "stream",
          "name": "stdout",
          "text": [
            "Model: \"sequential\"\n",
            "_________________________________________________________________\n",
            " Layer (type)                Output Shape              Param #   \n",
            "=================================================================\n",
            " conv2d (Conv2D)             (None, 32, 32, 32)        896       \n",
            "                                                                 \n",
            " max_pooling2d (MaxPooling2D  (None, 16, 16, 32)       0         \n",
            " )                                                               \n",
            "                                                                 \n",
            " conv2d_1 (Conv2D)           (None, 16, 16, 64)        18496     \n",
            "                                                                 \n",
            " max_pooling2d_1 (MaxPooling  (None, 8, 8, 64)         0         \n",
            " 2D)                                                             \n",
            "                                                                 \n",
            " conv2d_2 (Conv2D)           (None, 8, 8, 128)         73856     \n",
            "                                                                 \n",
            " max_pooling2d_2 (MaxPooling  (None, 4, 4, 128)        0         \n",
            " 2D)                                                             \n",
            "                                                                 \n",
            " flatten (Flatten)           (None, 2048)              0         \n",
            "                                                                 \n",
            " dense (Dense)               (None, 512)               1049088   \n",
            "                                                                 \n",
            " dense_1 (Dense)             (None, 10)                5130      \n",
            "                                                                 \n",
            "=================================================================\n",
            "Total params: 1,147,466\n",
            "Trainable params: 1,147,466\n",
            "Non-trainable params: 0\n",
            "_________________________________________________________________\n"
          ]
        }
      ]
    },
    {
      "cell_type": "code",
      "source": [
        "#定義模型優化器、損失函數、績效指標\n",
        "model.compile(loss=\"categorical_crossentropy\",optimizer=\"adam\",metrics=[\"accuracy\"])"
      ],
      "metadata": {
        "id": "ckArbtgkFFTG"
      },
      "execution_count": 12,
      "outputs": []
    },
    {
      "cell_type": "code",
      "source": [
        "#模型訓練\n",
        "cnn=model.fit(x_train_normalize,y_train_onehot,validation_split=0.2,epochs=10,batch_size=32)"
      ],
      "metadata": {
        "colab": {
          "base_uri": "https://localhost:8080/"
        },
        "id": "FH_ImFmVFnIG",
        "outputId": "d51b1843-2b26-4e71-b711-11881ea182f7"
      },
      "execution_count": 13,
      "outputs": [
        {
          "output_type": "stream",
          "name": "stdout",
          "text": [
            "Epoch 1/10\n",
            "1250/1250 [==============================] - 17s 5ms/step - loss: 1.4116 - accuracy: 0.4882 - val_loss: 1.0677 - val_accuracy: 0.6253\n",
            "Epoch 2/10\n",
            "1250/1250 [==============================] - 6s 5ms/step - loss: 0.9737 - accuracy: 0.6564 - val_loss: 0.8861 - val_accuracy: 0.6961\n",
            "Epoch 3/10\n",
            "1250/1250 [==============================] - 6s 5ms/step - loss: 0.7860 - accuracy: 0.7239 - val_loss: 0.7978 - val_accuracy: 0.7224\n",
            "Epoch 4/10\n",
            "1250/1250 [==============================] - 6s 5ms/step - loss: 0.6370 - accuracy: 0.7757 - val_loss: 0.7728 - val_accuracy: 0.7362\n",
            "Epoch 5/10\n",
            "1250/1250 [==============================] - 5s 4ms/step - loss: 0.5125 - accuracy: 0.8187 - val_loss: 0.8402 - val_accuracy: 0.7315\n",
            "Epoch 6/10\n",
            "1250/1250 [==============================] - 5s 4ms/step - loss: 0.3929 - accuracy: 0.8614 - val_loss: 0.8748 - val_accuracy: 0.7359\n",
            "Epoch 7/10\n",
            "1250/1250 [==============================] - 6s 5ms/step - loss: 0.2931 - accuracy: 0.8950 - val_loss: 0.9481 - val_accuracy: 0.7367\n",
            "Epoch 8/10\n",
            "1250/1250 [==============================] - 5s 4ms/step - loss: 0.2110 - accuracy: 0.9257 - val_loss: 1.1332 - val_accuracy: 0.7313\n",
            "Epoch 9/10\n",
            "1250/1250 [==============================] - 5s 4ms/step - loss: 0.1668 - accuracy: 0.9413 - val_loss: 1.2131 - val_accuracy: 0.7321\n",
            "Epoch 10/10\n",
            "1250/1250 [==============================] - 5s 4ms/step - loss: 0.1394 - accuracy: 0.9512 - val_loss: 1.2778 - val_accuracy: 0.7365\n"
          ]
        }
      ]
    },
    {
      "cell_type": "code",
      "source": [
        "#定義圖表繪製方法\n",
        "def cnn_plot(cnn,cnn_1,cnn_2,y_label):\n",
        "  plt.plot(cnn.history[cnn_1])\n",
        "  plt.plot(cnn.history[cnn_2])\n",
        "  plt.title('train history')\n",
        "  plt.xlabel('epochs')\n",
        "  plt.ylabel(y_label)\n",
        "  plt.legend( ['train','validation'],loc='upper left')\n",
        "  plt.show()"
      ],
      "metadata": {
        "id": "48t32FIf9fXc"
      },
      "execution_count": 14,
      "outputs": []
    },
    {
      "cell_type": "code",
      "source": [
        "#繪製準確率圖表\n",
        "accuracy_graphic=cnn_plot(cnn,'accuracy','val_accuracy','accuracy')"
      ],
      "metadata": {
        "id": "aRTDqgxd_PMs",
        "colab": {
          "base_uri": "https://localhost:8080/",
          "height": 295
        },
        "outputId": "f538797d-d0ef-470e-f4f1-5339d91a457b"
      },
      "execution_count": 15,
      "outputs": [
        {
          "output_type": "display_data",
          "data": {
            "text/plain": [
              "<Figure size 432x288 with 1 Axes>"
            ],
            "image/png": "[encoded data removed]"
          },
          "metadata": {
            "needs_background": "light"
          }
        }
      ]
    },
    {
      "cell_type": "code",
      "source": [
        "#繪製損失函數圖表\n",
        "loss_graohic=cnn_plot(cnn,'loss','val_loss','loss' )"
      ],
      "metadata": {
        "id": "PoakXQVJABej",
        "colab": {
          "base_uri": "https://localhost:8080/",
          "height": 295
        },
        "outputId": "b5135c49-5a03-4ae4-8c0a-b73d85ce18a2"
      },
      "execution_count": 16,
      "outputs": [
        {
          "output_type": "display_data",
          "data": {
            "text/plain": [
              "<Figure size 432x288 with 1 Axes>"
            ],
            "image/png": "[encoded data removed]"
          },
          "metadata": {
            "needs_background": "light"
          }
        }
      ]
    },
    {
      "cell_type": "code",
      "source": [
        "#模型績效評估\n",
        "evaluate=model.evaluate(x_test_normalize,y_test_onehot)"
      ],
      "metadata": {
        "id": "94rgFqfEBOHC",
        "colab": {
          "base_uri": "https://localhost:8080/"
        },
        "outputId": "09916c05-5603-48eb-cf97-7c4c0e459b9b"
      },
      "execution_count": 17,
      "outputs": [
        {
          "output_type": "stream",
          "name": "stdout",
          "text": [
            "313/313 [==============================] - 1s 3ms/step - loss: 1.3165 - accuracy: 0.7236\n"
          ]
        }
      ]
    },
    {
      "cell_type": "code",
      "source": [
        "#利用測試資料進行圖片辨識\n",
        "pred=np.argmax(model.predict(x_test_normalize),axis=1)\n",
        "print(pred)#顯示所有圖片辨識結果"
      ],
      "metadata": {
        "id": "yFFZB9PWBxNK",
        "colab": {
          "base_uri": "https://localhost:8080/"
        },
        "outputId": "508978f4-a6b4-4e5f-b8ba-1ac26c248111"
      },
      "execution_count": 18,
      "outputs": [
        {
          "output_type": "stream",
          "name": "stdout",
          "text": [
            "[3 8 8 ... 5 4 7]\n"
          ]
        }
      ]
    },
    {
      "cell_type": "code",
      "source": [
        "#將辨識的數值轉換為文字\n",
        "pred_description=list(map(lambda x:classes[x],pred))\n",
        "print(pred_description[20:30])#顯示第20到第30張圖片辨識結果"
      ],
      "metadata": {
        "id": "dkQJPuyYEAEv",
        "colab": {
          "base_uri": "https://localhost:8080/"
        },
        "outputId": "0e1e955c-1501-46d1-8d1c-a9295e69b890"
      },
      "execution_count": 19,
      "outputs": [
        {
          "output_type": "stream",
          "name": "stdout",
          "text": [
            "['horse', 'bird', 'deer', 'truck', 'deer', 'bird', 'bird', 'airplane', 'truck', 'frog']\n"
          ]
        }
      ]
    },
    {
      "cell_type": "code",
      "source": [
        "#觀察辨識錯誤的資料\n",
        "y_test_label=y_test.reshape(-1)\n",
        "pd.crosstab(y_test_label,pred,colnames=['Prediction'],rownames=['label'])"
      ],
      "metadata": {
        "id": "fqhl_LcSHST1",
        "colab": {
          "base_uri": "https://localhost:8080/",
          "height": 394
        },
        "outputId": "1dcc2a92-f7b6-41e7-c19b-3f64a8a5e49e"
      },
      "execution_count": 20,
      "outputs": [
        {
          "output_type": "execute_result",
          "data": {
            "text/plain": [
              "Prediction    0    1    2    3    4    5    6    7    8    9\n",
              "label                                                       \n",
              "0           767   21   53   22   19    7   16    6   48   41\n",
              "1            14  827    9   14    6    2   13    2   23   90\n",
              "2            58   10  639   66   83   24   87   16    8    9\n",
              "3            17    8   98  565   62  135   68   20   11   16\n",
              "4            24    6   60  102  665   21   60   51    8    3\n",
              "5            12    2   76  215   53  533   47   45    7   10\n",
              "6             5    6   36   52   21   10  858    5    4    3\n",
              "7            15    2   40   61   52   53   15  747    3   12\n",
              "8            58   26   26   17    7    6   13    3  824   20\n",
              "9            34   79   10   16    2   10    9    8   21  811"
            ],
            "text/html": [
              "\n",
              "  <div id=\"df-84572510-bff3-4dda-934f-8d8a63e749b8\">\n",
              "    <div class=\"colab-df-container\">\n",
              "      <div>\n",
              "<style scoped>\n",
              "    .dataframe tbody tr th:only-of-type {\n",
              "        vertical-align: middle;\n",
              "    }\n",
              "\n",
              "    .dataframe tbody tr th {\n",
              "        vertical-align: top;\n",
              "    }\n",
              "\n",
              "    .dataframe thead th {\n",
              "        text-align: right;\n",
              "    }\n",
              "</style>\n",
              "<table border=\"1\" class=\"dataframe\">\n",
              "  <thead>\n",
              "    <tr style=\"text-align: right;\">\n",
              "      <th>Prediction</th>\n",
              "      <th>0</th>\n",
              "      <th>1</th>\n",
              "      <th>2</th>\n",
              "      <th>3</th>\n",
              "      <th>4</th>\n",
              "      <th>5</th>\n",
              "      <th>6</th>\n",
              "      <th>7</th>\n",
              "      <th>8</th>\n",
              "      <th>9</th>\n",
              "    </tr>\n",
              "    <tr>\n",
              "      <th>label</th>\n",
              "      <th></th>\n",
              "      <th></th>\n",
              "      <th></th>\n",
              "      <th></th>\n",
              "      <th></th>\n",
              "      <th></th>\n",
              "      <th></th>\n",
              "      <th></th>\n",
              "      <th></th>\n",
              "      <th></th>\n",
              "    </tr>\n",
              "  </thead>\n",
              "  <tbody>\n",
              "    <tr>\n",
              "      <th>0</th>\n",
              "      <td>767</td>\n",
              "      <td>21</td>\n",
              "      <td>53</td>\n",
              "      <td>22</td>\n",
              "      <td>19</td>\n",
              "      <td>7</td>\n",
              "      <td>16</td>\n",
              "      <td>6</td>\n",
              "      <td>48</td>\n",
              "      <td>41</td>\n",
              "    </tr>\n",
              "    <tr>\n",
              "      <th>1</th>\n",
              "      <td>14</td>\n",
              "      <td>827</td>\n",
              "      <td>9</td>\n",
              "      <td>14</td>\n",
              "      <td>6</td>\n",
              "      <td>2</td>\n",
              "      <td>13</td>\n",
              "      <td>2</td>\n",
              "      <td>23</td>\n",
              "      <td>90</td>\n",
              "    </tr>\n",
              "    <tr>\n",
              "      <th>2</th>\n",
              "      <td>58</td>\n",
              "      <td>10</td>\n",
              "      <td>639</td>\n",
              "      <td>66</td>\n",
              "      <td>83</td>\n",
              "      <td>24</td>\n",
              "      <td>87</td>\n",
              "      <td>16</td>\n",
              "      <td>8</td>\n",
              "      <td>9</td>\n",
              "    </tr>\n",
              "    <tr>\n",
              "      <th>3</th>\n",
              "      <td>17</td>\n",
              "      <td>8</td>\n",
              "      <td>98</td>\n",
              "      <td>565</td>\n",
              "      <td>62</td>\n",
              "      <td>135</td>\n",
              "      <td>68</td>\n",
              "      <td>20</td>\n",
              "      <td>11</td>\n",
              "      <td>16</td>\n",
              "    </tr>\n",
              "    <tr>\n",
              "      <th>4</th>\n",
              "      <td>24</td>\n",
              "      <td>6</td>\n",
              "      <td>60</td>\n",
              "      <td>102</td>\n",
              "      <td>665</td>\n",
              "      <td>21</td>\n",
              "      <td>60</td>\n",
              "      <td>51</td>\n",
              "      <td>8</td>\n",
              "      <td>3</td>\n",
              "    </tr>\n",
              "    <tr>\n",
              "      <th>5</th>\n",
              "      <td>12</td>\n",
              "      <td>2</td>\n",
              "      <td>76</td>\n",
              "      <td>215</td>\n",
              "      <td>53</td>\n",
              "      <td>533</td>\n",
              "      <td>47</td>\n",
              "      <td>45</td>\n",
              "      <td>7</td>\n",
              "      <td>10</td>\n",
              "    </tr>\n",
              "    <tr>\n",
              "      <th>6</th>\n",
              "      <td>5</td>\n",
              "      <td>6</td>\n",
              "      <td>36</td>\n",
              "      <td>52</td>\n",
              "      <td>21</td>\n",
              "      <td>10</td>\n",
              "      <td>858</td>\n",
              "      <td>5</td>\n",
              "      <td>4</td>\n",
              "      <td>3</td>\n",
              "    </tr>\n",
              "    <tr>\n",
              "      <th>7</th>\n",
              "      <td>15</td>\n",
              "      <td>2</td>\n",
              "      <td>40</td>\n",
              "      <td>61</td>\n",
              "      <td>52</td>\n",
              "      <td>53</td>\n",
              "      <td>15</td>\n",
              "      <td>747</td>\n",
              "      <td>3</td>\n",
              "      <td>12</td>\n",
              "    </tr>\n",
              "    <tr>\n",
              "      <th>8</th>\n",
              "      <td>58</td>\n",
              "      <td>26</td>\n",
              "      <td>26</td>\n",
              "      <td>17</td>\n",
              "      <td>7</td>\n",
              "      <td>6</td>\n",
              "      <td>13</td>\n",
              "      <td>3</td>\n",
              "      <td>824</td>\n",
              "      <td>20</td>\n",
              "    </tr>\n",
              "    <tr>\n",
              "      <th>9</th>\n",
              "      <td>34</td>\n",
              "      <td>79</td>\n",
              "      <td>10</td>\n",
              "      <td>16</td>\n",
              "      <td>2</td>\n",
              "      <td>10</td>\n",
              "      <td>9</td>\n",
              "      <td>8</td>\n",
              "      <td>21</td>\n",
              "      <td>811</td>\n",
              "    </tr>\n",
              "  </tbody>\n",
              "</table>\n",
              "</div>\n",
              "      <button class=\"colab-df-convert\" onclick=\"convertToInteractive('df-84572510-bff3-4dda-934f-8d8a63e749b8')\"\n",
              "              title=\"Convert this dataframe to an interactive table.\"\n",
              "              style=\"display:none;\">\n",
              "        \n",
              "  <svg xmlns=\"http://www.w3.org/2000/svg\" height=\"24px\"viewBox=\"0 0 24 24\"\n",
              "       width=\"24px\">\n",
              "    <path d=\"M0 0h24v24H0V0z\" fill=\"none\"/>\n",
              "    <path d=\"M18.56 5.44l.94 2.06.94-2.06 2.06-.94-2.06-.94-.94-2.06-.94 2.06-2.06.94zm-11 1L8.5 8.5l.94-2.06 2.06-.94-2.06-.94L8.5 2.5l-.94 2.06-2.06.94zm10 10l.94 2.06.94-2.06 2.06-.94-2.06-.94-.94-2.06-.94 2.06-2.06.94z\"/><path d=\"M17.41 7.96l-1.37-1.37c-.4-.4-.92-.59-1.43-.59-.52 0-1.04.2-1.43.59L10.3 9.45l-7.72 7.72c-.78.78-.78 2.05 0 2.83L4 21.41c.39.39.9.59 1.41.59.51 0 1.02-.2 1.41-.59l7.78-7.78 2.81-2.81c.8-.78.8-2.07 0-2.86zM5.41 20L4 18.59l7.72-7.72 1.47 1.35L5.41 20z\"/>\n",
              "  </svg>\n",
              "      </button>\n",
              "      \n",
              "  <style>\n",
              "    .colab-df-container {\n",
              "      display:flex;\n",
              "      flex-wrap:wrap;\n",
              "      gap: 12px;\n",
              "    }\n",
              "\n",
              "    .colab-df-convert {\n",
              "      background-color: #E8F0FE;\n",
              "      border: none;\n",
              "      border-radius: 50%;\n",
              "      cursor: pointer;\n",
              "      display: none;\n",
              "      fill: #1967D2;\n",
              "      height: 32px;\n",
              "      padding: 0 0 0 0;\n",
              "      width: 32px;\n",
              "    }\n",
              "\n",
              "    .colab-df-convert:hover {\n",
              "      background-color: #E2EBFA;\n",
              "      box-shadow: 0px 1px 2px rgba(60, 64, 67, 0.3), 0px 1px 3px 1px rgba(60, 64, 67, 0.15);\n",
              "      fill: #174EA6;\n",
              "    }\n",
              "\n",
              "    [theme=dark] .colab-df-convert {\n",
              "      background-color: #3B4455;\n",
              "      fill: #D2E3FC;\n",
              "    }\n",
              "\n",
              "    [theme=dark] .colab-df-convert:hover {\n",
              "      background-color: #434B5C;\n",
              "      box-shadow: 0px 1px 3px 1px rgba(0, 0, 0, 0.15);\n",
              "      filter: drop-shadow(0px 1px 2px rgba(0, 0, 0, 0.3));\n",
              "      fill: #FFFFFF;\n",
              "    }\n",
              "  </style>\n",
              "\n",
              "      <script>\n",
              "        const buttonEl =\n",
              "          document.querySelector('#df-84572510-bff3-4dda-934f-8d8a63e749b8 button.colab-df-convert');\n",
              "        buttonEl.style.display =\n",
              "          google.colab.kernel.accessAllowed ? 'block' : 'none';\n",
              "\n",
              "        async function convertToInteractive(key) {\n",
              "          const element = document.querySelector('#df-84572510-bff3-4dda-934f-8d8a63e749b8');\n",
              "          const dataTable =\n",
              "            await google.colab.kernel.invokeFunction('convertToInteractive',\n",
              "                                                     [key], {});\n",
              "          if (!dataTable) return;\n",
              "\n",
              "          const docLinkHtml = 'Like what you see? Visit the ' +\n",
              "            '<a target=\"_blank\" href=https://colab.research.google.com/notebooks/data_table.ipynb>data table notebook</a>'\n",
              "            + ' to learn more about interactive tables.';\n",
              "          element.innerHTML = '';\n",
              "          dataTable['output_type'] = 'display_data';\n",
              "          await google.colab.output.renderOutput(dataTable, element);\n",
              "          const docLink = document.createElement('div');\n",
              "          docLink.innerHTML = docLinkHtml;\n",
              "          element.appendChild(docLink);\n",
              "        }\n",
              "      </script>\n",
              "    </div>\n",
              "  </div>\n",
              "  "
            ]
          },
          "metadata": {},
          "execution_count": 20
        }
      ]
    },
    {
      "cell_type": "code",
      "source": [
        "from sklearn.metrics import confusion_matrix\n",
        "print(confusion_matrix(y_test,pred))"
      ],
      "metadata": {
        "colab": {
          "base_uri": "https://localhost:8080/"
        },
        "id": "z9dLTtFDxepL",
        "outputId": "c35520c4-d7f1-4085-f259-57d55b2f795e"
      },
      "execution_count": 26,
      "outputs": [
        {
          "output_type": "stream",
          "name": "stdout",
          "text": [
            "[[767  21  53  22  19   7  16   6  48  41]\n",
            " [ 14 827   9  14   6   2  13   2  23  90]\n",
            " [ 58  10 639  66  83  24  87  16   8   9]\n",
            " [ 17   8  98 565  62 135  68  20  11  16]\n",
            " [ 24   6  60 102 665  21  60  51   8   3]\n",
            " [ 12   2  76 215  53 533  47  45   7  10]\n",
            " [  5   6  36  52  21  10 858   5   4   3]\n",
            " [ 15   2  40  61  52  53  15 747   3  12]\n",
            " [ 58  26  26  17   7   6  13   3 824  20]\n",
            " [ 34  79  10  16   2  10   9   8  21 811]]\n"
          ]
        }
      ]
    },
    {
      "cell_type": "code",
      "source": [
        "from sklearn.metrics import classification_report\n",
        "print(classification_report(y_test,pred))"
      ],
      "metadata": {
        "colab": {
          "base_uri": "https://localhost:8080/"
        },
        "id": "BrTv4_VRwqB8",
        "outputId": "b648d599-6615-49e3-ba7a-6333bd862df6"
      },
      "execution_count": 25,
      "outputs": [
        {
          "output_type": "stream",
          "name": "stdout",
          "text": [
            "              precision    recall  f1-score   support\n",
            "\n",
            "           0       0.76      0.77      0.77      1000\n",
            "           1       0.84      0.83      0.83      1000\n",
            "           2       0.61      0.64      0.62      1000\n",
            "           3       0.50      0.56      0.53      1000\n",
            "           4       0.69      0.67      0.68      1000\n",
            "           5       0.67      0.53      0.59      1000\n",
            "           6       0.72      0.86      0.78      1000\n",
            "           7       0.83      0.75      0.79      1000\n",
            "           8       0.86      0.82      0.84      1000\n",
            "           9       0.80      0.81      0.80      1000\n",
            "\n",
            "    accuracy                           0.72     10000\n",
            "   macro avg       0.73      0.72      0.72     10000\n",
            "weighted avg       0.73      0.72      0.72     10000\n",
            "\n"
          ]
        }
      ]
    }
  ]
}